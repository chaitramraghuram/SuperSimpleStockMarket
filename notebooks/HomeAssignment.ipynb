{
  "nbformat": 4,
  "nbformat_minor": 0,
  "metadata": {
    "colab": {
      "name": "HomeAssignment.ipynb",
      "provenance": [],
      "collapsed_sections": []
    },
    "kernelspec": {
      "name": "python3",
      "display_name": "Python 3"
    },
    "language_info": {
      "name": "python"
    }
  },
  "cells": [
    {
      "cell_type": "markdown",
      "source": [
        "Following are the functions that calculate the dividend yield based on the Type (Preferred or Common):\n",
        "\n",
        "1. ***preferred_dividend_yield*** calculates the dividend yield based on the *fixed_dividend, par_value* and *price*\n",
        "2. ***common_dividend_yield*** calculates the dividend yield based on *last_dividend* and *price*"
      ],
      "metadata": {
        "id": "aUSv567UlrLB"
      }
    },
    {
      "cell_type": "code",
      "execution_count": 9,
      "metadata": {
        "id": "j80VFTLJJHNC"
      },
      "outputs": [],
      "source": [
        "def preferred_dividend_yield(fixed_dividend: float,  par_value: int, price: float):\n",
        "  return (fixed_dividend * par_value) / price\n",
        "\n",
        "def common_dividend_yield(last_dividend: float, price:float):\n",
        "  return last_dividend / price"
      ]
    },
    {
      "cell_type": "markdown",
      "source": [
        "Function ***compute_pe_ratio*** calculates the P/E ratio based on *price* and *last_dividend*"
      ],
      "metadata": {
        "id": "3gT5W_xmvRO3"
      }
    },
    {
      "cell_type": "code",
      "source": [
        "def compute_pe_ratio(last_dividend: int, price:float):\n",
        "  return price/last_dividend"
      ],
      "metadata": {
        "id": "Lu-mIKPSZi-Z"
      },
      "execution_count": 10,
      "outputs": []
    },
    {
      "cell_type": "code",
      "source": [
        "import numpy as np \n",
        "from datetime import datetime, timedelta\n",
        "import pandas as pd\n",
        "from tqdm import tqdm \n",
        "import time \n",
        "import random "
      ],
      "metadata": {
        "id": "QOL46ilK9_Bj"
      },
      "execution_count": 11,
      "outputs": []
    },
    {
      "cell_type": "markdown",
      "source": [
        "Since data hasn't been given to me, the following cell lists an attempt to generate the data and store it in the form of a `pandas.DataFrame`. The data generation is for an interval of an hour. The following assumptions are made while generating the data.\n",
        "\n",
        "1. The following are the features generated to create synthetic data: `time`, `ticker`, `dividend_type` describing the type of the dividend, `last_price` describing the last traded price, `dividend`, `fixed_dividend`, `par_value` and `quantity` is the number of shares traded at the `last_price`.\n",
        "2. The trades come as and when they are executed.\n",
        "3. As per the definition of `par_value`, lowest limit set to the value of a share of stock in a corporation. A share may not be bought, sold or traded for less than the par value."
      ],
      "metadata": {
        "id": "R8F7KTJAZGEd"
      }
    },
    {
      "cell_type": "code",
      "source": [
        "df = pd.DataFrame(columns=['time', 'ticker', 'type', 'last_price', 'dividend', 'fixed_dividend', 'par_value', 'transaction_type', 'quantity'])\n",
        "tickers = ['TEA', 'POP', 'GIN', 'ALE', 'JOE']\n",
        "mode = ['Common', 'Preferred']\n",
        "transaction_type = ['BUY','SELL']\n"
      ],
      "metadata": {
        "id": "pCZmDdg6a-Ez"
      },
      "execution_count": 12,
      "outputs": []
    },
    {
      "cell_type": "markdown",
      "source": [
        ""
      ],
      "metadata": {
        "id": "CVFet9FkYua3"
      }
    },
    {
      "cell_type": "code",
      "source": [
        "tic = time.time()\n",
        "#for i in tqdm(range(10)):\n",
        "index = 0\n",
        "while time.time() - tic < 360:\n",
        "  \n",
        "  chosen_mode = np.random.choice(mode, 1)[0]\n",
        "  last_price = np.random.randint(700,800)\n",
        "  par_val = np.random.choice([10, 100], 1)[0] # Par value is either 10 or 100\n",
        "  \n",
        "  df.loc[index] = [str(datetime.now()), # Current time as string \n",
        "               np.random.choice(tickers, size=1)[0], # Pick a ticker at random\n",
        "               chosen_mode, # Choose the type of share - Common or Preferred\n",
        "               last_price, # Last traded price\n",
        "               np.random.randint(1, 100), # Dividend\n",
        "               (np.random.randint(1,99) if(chosen_mode=='Preferred') else 0), # Fixed dividend\n",
        "               (par_val if(par_val <= last_price) else (last_price-1)), # Par value \n",
        "               np.random.choice(transaction_type, size=1)[0], # Transaction type\n",
        "               np.random.randint(10, 900)] #Quantity of shares traded\n",
        "  index+=1\n",
        "  time.sleep(random.uniform(0.1, 4))"
      ],
      "metadata": {
        "id": "CQqKA0qobzxY"
      },
      "execution_count": 13,
      "outputs": []
    },
    {
      "cell_type": "markdown",
      "source": [
        "In the following cell, I convert the `time` column to the appropriate type and set the column as the index."
      ],
      "metadata": {
        "id": "030ByDsmaFz3"
      }
    },
    {
      "cell_type": "code",
      "source": [
        "df['time'] = pd.to_datetime(df['time'])\n",
        "df.set_index('time', inplace=True)\n",
        "df.head()\n"
      ],
      "metadata": {
        "id": "lvbJKn-yqBqL",
        "colab": {
          "base_uri": "https://localhost:8080/",
          "height": 238
        },
        "outputId": "754b3e2c-63a4-42ac-accf-f1223f221265"
      },
      "execution_count": 14,
      "outputs": [
        {
          "output_type": "execute_result",
          "data": {
            "text/plain": [
              "                           ticker       type last_price dividend  \\\n",
              "time                                                               \n",
              "2022-08-01 04:51:18.118831    GIN     Common        775        4   \n",
              "2022-08-01 04:51:21.938354    GIN  Preferred        781       90   \n",
              "2022-08-01 04:51:24.606764    GIN  Preferred        772       12   \n",
              "2022-08-01 04:51:27.734690    TEA     Common        745       56   \n",
              "2022-08-01 04:51:28.140783    JOE     Common        780       60   \n",
              "\n",
              "                           fixed_dividend par_value transaction_type quantity  \n",
              "time                                                                           \n",
              "2022-08-01 04:51:18.118831              0        10             SELL      717  \n",
              "2022-08-01 04:51:21.938354             23        10             SELL      823  \n",
              "2022-08-01 04:51:24.606764              8        10              BUY      430  \n",
              "2022-08-01 04:51:27.734690              0       100             SELL      372  \n",
              "2022-08-01 04:51:28.140783              0       100             SELL      528  "
            ],
            "text/html": [
              "\n",
              "  <div id=\"df-bb1a1a9c-d47f-49c6-9df8-23794f68f50d\">\n",
              "    <div class=\"colab-df-container\">\n",
              "      <div>\n",
              "<style scoped>\n",
              "    .dataframe tbody tr th:only-of-type {\n",
              "        vertical-align: middle;\n",
              "    }\n",
              "\n",
              "    .dataframe tbody tr th {\n",
              "        vertical-align: top;\n",
              "    }\n",
              "\n",
              "    .dataframe thead th {\n",
              "        text-align: right;\n",
              "    }\n",
              "</style>\n",
              "<table border=\"1\" class=\"dataframe\">\n",
              "  <thead>\n",
              "    <tr style=\"text-align: right;\">\n",
              "      <th></th>\n",
              "      <th>ticker</th>\n",
              "      <th>type</th>\n",
              "      <th>last_price</th>\n",
              "      <th>dividend</th>\n",
              "      <th>fixed_dividend</th>\n",
              "      <th>par_value</th>\n",
              "      <th>transaction_type</th>\n",
              "      <th>quantity</th>\n",
              "    </tr>\n",
              "    <tr>\n",
              "      <th>time</th>\n",
              "      <th></th>\n",
              "      <th></th>\n",
              "      <th></th>\n",
              "      <th></th>\n",
              "      <th></th>\n",
              "      <th></th>\n",
              "      <th></th>\n",
              "      <th></th>\n",
              "    </tr>\n",
              "  </thead>\n",
              "  <tbody>\n",
              "    <tr>\n",
              "      <th>2022-08-01 04:51:18.118831</th>\n",
              "      <td>GIN</td>\n",
              "      <td>Common</td>\n",
              "      <td>775</td>\n",
              "      <td>4</td>\n",
              "      <td>0</td>\n",
              "      <td>10</td>\n",
              "      <td>SELL</td>\n",
              "      <td>717</td>\n",
              "    </tr>\n",
              "    <tr>\n",
              "      <th>2022-08-01 04:51:21.938354</th>\n",
              "      <td>GIN</td>\n",
              "      <td>Preferred</td>\n",
              "      <td>781</td>\n",
              "      <td>90</td>\n",
              "      <td>23</td>\n",
              "      <td>10</td>\n",
              "      <td>SELL</td>\n",
              "      <td>823</td>\n",
              "    </tr>\n",
              "    <tr>\n",
              "      <th>2022-08-01 04:51:24.606764</th>\n",
              "      <td>GIN</td>\n",
              "      <td>Preferred</td>\n",
              "      <td>772</td>\n",
              "      <td>12</td>\n",
              "      <td>8</td>\n",
              "      <td>10</td>\n",
              "      <td>BUY</td>\n",
              "      <td>430</td>\n",
              "    </tr>\n",
              "    <tr>\n",
              "      <th>2022-08-01 04:51:27.734690</th>\n",
              "      <td>TEA</td>\n",
              "      <td>Common</td>\n",
              "      <td>745</td>\n",
              "      <td>56</td>\n",
              "      <td>0</td>\n",
              "      <td>100</td>\n",
              "      <td>SELL</td>\n",
              "      <td>372</td>\n",
              "    </tr>\n",
              "    <tr>\n",
              "      <th>2022-08-01 04:51:28.140783</th>\n",
              "      <td>JOE</td>\n",
              "      <td>Common</td>\n",
              "      <td>780</td>\n",
              "      <td>60</td>\n",
              "      <td>0</td>\n",
              "      <td>100</td>\n",
              "      <td>SELL</td>\n",
              "      <td>528</td>\n",
              "    </tr>\n",
              "  </tbody>\n",
              "</table>\n",
              "</div>\n",
              "      <button class=\"colab-df-convert\" onclick=\"convertToInteractive('df-bb1a1a9c-d47f-49c6-9df8-23794f68f50d')\"\n",
              "              title=\"Convert this dataframe to an interactive table.\"\n",
              "              style=\"display:none;\">\n",
              "        \n",
              "  <svg xmlns=\"http://www.w3.org/2000/svg\" height=\"24px\"viewBox=\"0 0 24 24\"\n",
              "       width=\"24px\">\n",
              "    <path d=\"M0 0h24v24H0V0z\" fill=\"none\"/>\n",
              "    <path d=\"M18.56 5.44l.94 2.06.94-2.06 2.06-.94-2.06-.94-.94-2.06-.94 2.06-2.06.94zm-11 1L8.5 8.5l.94-2.06 2.06-.94-2.06-.94L8.5 2.5l-.94 2.06-2.06.94zm10 10l.94 2.06.94-2.06 2.06-.94-2.06-.94-.94-2.06-.94 2.06-2.06.94z\"/><path d=\"M17.41 7.96l-1.37-1.37c-.4-.4-.92-.59-1.43-.59-.52 0-1.04.2-1.43.59L10.3 9.45l-7.72 7.72c-.78.78-.78 2.05 0 2.83L4 21.41c.39.39.9.59 1.41.59.51 0 1.02-.2 1.41-.59l7.78-7.78 2.81-2.81c.8-.78.8-2.07 0-2.86zM5.41 20L4 18.59l7.72-7.72 1.47 1.35L5.41 20z\"/>\n",
              "  </svg>\n",
              "      </button>\n",
              "      \n",
              "  <style>\n",
              "    .colab-df-container {\n",
              "      display:flex;\n",
              "      flex-wrap:wrap;\n",
              "      gap: 12px;\n",
              "    }\n",
              "\n",
              "    .colab-df-convert {\n",
              "      background-color: #E8F0FE;\n",
              "      border: none;\n",
              "      border-radius: 50%;\n",
              "      cursor: pointer;\n",
              "      display: none;\n",
              "      fill: #1967D2;\n",
              "      height: 32px;\n",
              "      padding: 0 0 0 0;\n",
              "      width: 32px;\n",
              "    }\n",
              "\n",
              "    .colab-df-convert:hover {\n",
              "      background-color: #E2EBFA;\n",
              "      box-shadow: 0px 1px 2px rgba(60, 64, 67, 0.3), 0px 1px 3px 1px rgba(60, 64, 67, 0.15);\n",
              "      fill: #174EA6;\n",
              "    }\n",
              "\n",
              "    [theme=dark] .colab-df-convert {\n",
              "      background-color: #3B4455;\n",
              "      fill: #D2E3FC;\n",
              "    }\n",
              "\n",
              "    [theme=dark] .colab-df-convert:hover {\n",
              "      background-color: #434B5C;\n",
              "      box-shadow: 0px 1px 3px 1px rgba(0, 0, 0, 0.15);\n",
              "      filter: drop-shadow(0px 1px 2px rgba(0, 0, 0, 0.3));\n",
              "      fill: #FFFFFF;\n",
              "    }\n",
              "  </style>\n",
              "\n",
              "      <script>\n",
              "        const buttonEl =\n",
              "          document.querySelector('#df-bb1a1a9c-d47f-49c6-9df8-23794f68f50d button.colab-df-convert');\n",
              "        buttonEl.style.display =\n",
              "          google.colab.kernel.accessAllowed ? 'block' : 'none';\n",
              "\n",
              "        async function convertToInteractive(key) {\n",
              "          const element = document.querySelector('#df-bb1a1a9c-d47f-49c6-9df8-23794f68f50d');\n",
              "          const dataTable =\n",
              "            await google.colab.kernel.invokeFunction('convertToInteractive',\n",
              "                                                     [key], {});\n",
              "          if (!dataTable) return;\n",
              "\n",
              "          const docLinkHtml = 'Like what you see? Visit the ' +\n",
              "            '<a target=\"_blank\" href=https://colab.research.google.com/notebooks/data_table.ipynb>data table notebook</a>'\n",
              "            + ' to learn more about interactive tables.';\n",
              "          element.innerHTML = '';\n",
              "          dataTable['output_type'] = 'display_data';\n",
              "          await google.colab.output.renderOutput(dataTable, element);\n",
              "          const docLink = document.createElement('div');\n",
              "          docLink.innerHTML = docLinkHtml;\n",
              "          element.appendChild(docLink);\n",
              "        }\n",
              "      </script>\n",
              "    </div>\n",
              "  </div>\n",
              "  "
            ]
          },
          "metadata": {},
          "execution_count": 14
        }
      ]
    },
    {
      "cell_type": "markdown",
      "source": [
        "1. The following cell computes Volume Weighted Stock Price for a window of 30s. However, it computes it for the original data frame. It needs to be computed for an individual stock.\n",
        "2. The approach is as follows:\n",
        "  \n",
        "  a. Filter the stock based on a key\n",
        "\n",
        "  b. Apply the formula below."
      ],
      "metadata": {
        "id": "lmto3RA9jnJL"
      }
    },
    {
      "cell_type": "code",
      "source": [
        "def calculate_vwsp(df: pd.DataFrame, window_length: int = 900):\n",
        "  \"\"\"\n",
        "  Calculate Volume Weighted Stock Price\n",
        "\n",
        "  Args:\n",
        "    df (pd.DataFrame): Dataframe holding stock data for a ticker\n",
        "    window_length (int): Time in seconds\n",
        "  \n",
        "  Returns:\n",
        "    pd.Series with Volume Weighted Stock Price\n",
        "  \"\"\"\n",
        "  window_length_str = str(window_length) + 's'\n",
        "  vwsp = ((df['quantity'] * df['last_price']).rolling(window_length_str).sum())/(df['quantity'].rolling(window_length_str).sum())\n",
        "  return vwsp "
      ],
      "metadata": {
        "id": "MWjuuK0kCL2Y"
      },
      "execution_count": 16,
      "outputs": []
    },
    {
      "cell_type": "markdown",
      "source": [
        "The following cell filters the dataframe to access a particular stock. \n",
        "\n",
        "In the example below, the dataframe is filtered for ticker `TEA`. "
      ],
      "metadata": {
        "id": "EgGSh2UUkg-g"
      }
    },
    {
      "cell_type": "code",
      "source": [
        "tea_df = df[df['ticker'] == 'TEA']"
      ],
      "metadata": {
        "id": "r9F5lUamkUWr"
      },
      "execution_count": 18,
      "outputs": []
    },
    {
      "cell_type": "markdown",
      "source": [
        "# Invoking the functions\n",
        "\n",
        "In the following section, I provide examples for invoking the functions.\n",
        "\n",
        "1. Calculating the dividend yield\n",
        "2. Calculating the P/E ratio\n",
        "3. Recording the timestamp for a given ticker symbol\n",
        "4. Calculating VWSP\n",
        "\n",
        "For #3, the problem statement asks to hold the data in memory."
      ],
      "metadata": {
        "id": "uq_Y1Odkwclv"
      }
    },
    {
      "cell_type": "code",
      "source": [
        "# Dividend yield\n",
        "row = df.iloc[5]\n",
        "row\n",
        "\n",
        "if row['type'] == 'Common':\n",
        "  common_div_yield = common_dividend_yield(row['dividend'], row['last_price'])\n",
        "else:\n",
        "  preferred_div_yield = preferred_dividend_yield(row['fixed_dividend'], row['par_value'], row['last_price'])\n",
        "\n",
        "# P/E ratio\n",
        "pe_ratio = compute_pe_ratio(row['dividend'], row['last_price'])\n",
        "\n",
        "# Filter the timestamp \n",
        "filtered_df = df[df['ticker']=='TEA']\n",
        "\n",
        "# Computing VWSP for a 900 s window\n",
        "vwsp = calculate_vwsp(filtered_df, window_length=900)"
      ],
      "metadata": {
        "id": "u9SwHPsUwscB"
      },
      "execution_count": 23,
      "outputs": []
    },
    {
      "cell_type": "code",
      "source": [
        "import matplotlib.pyplot as plt\n",
        "plt.plot(vwsp)"
      ],
      "metadata": {
        "colab": {
          "base_uri": "https://localhost:8080/",
          "height": 282
        },
        "id": "CW8rRbwr0Bie",
        "outputId": "90879711-5e88-4150-bdd5-17624e62dea3"
      },
      "execution_count": 24,
      "outputs": [
        {
          "output_type": "execute_result",
          "data": {
            "text/plain": [
              "[<matplotlib.lines.Line2D at 0x7f38cc65e650>]"
            ]
          },
          "metadata": {},
          "execution_count": 24
        },
        {
          "output_type": "display_data",
          "data": {
            "text/plain": [
              "<Figure size 432x288 with 1 Axes>"
            ],
            "image/png": "[encoded data removed]"
          },
          "metadata": {
            "needs_background": "light"
          }
        }
      ]
    },
    {
      "cell_type": "markdown",
      "source": [
        "# Computing GBCE\n",
        "\n",
        "In order to compute the GBCE, computing the product might cause overflow. Hence, the GBCE is computed by computing the sum of logarithm of the prices and then raised to the exponent to prevent overflow."
      ],
      "metadata": {
        "id": "SODA9IUfvAjE"
      }
    },
    {
      "cell_type": "code",
      "source": [
        "gbce = np.exp((np.log(df['last_price'].astype(float)).sum())/len(df))"
      ],
      "metadata": {
        "id": "QA4A9X6iH_WU"
      },
      "execution_count": 25,
      "outputs": []
    },
    {
      "cell_type": "code",
      "source": [
        ""
      ],
      "metadata": {
        "id": "2L19TSE7ec5X"
      },
      "execution_count": null,
      "outputs": []
    }
  ]
}
